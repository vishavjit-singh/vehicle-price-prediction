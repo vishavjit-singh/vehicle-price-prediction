{
 "cells": [
  {
   "cell_type": "code",
   "execution_count": 1,
   "id": "5e34bea5",
   "metadata": {},
   "outputs": [],
   "source": [
    "import pandas as pd\n",
    "import numpy as np\n",
    "from sklearn.model_selection import train_test_split\n",
    "from sklearn.preprocessing import LabelEncoder, StandardScaler\n",
    "from sklearn.ensemble import RandomForestRegressor\n",
    "from sklearn.metrics import mean_squared_error, r2_score\n",
    "import matplotlib.pyplot as plt\n",
    "import joblib"
   ]
  },
  {
   "cell_type": "markdown",
   "id": "ceede8e5",
   "metadata": {},
   "source": [
    "# Load the dataset"
   ]
  },
  {
   "cell_type": "code",
   "execution_count": 3,
   "id": "34f31b9c",
   "metadata": {},
   "outputs": [],
   "source": [
    "data = pd.read_csv('dataset.csv')"
   ]
  },
  {
   "cell_type": "markdown",
   "id": "b4b49f24",
   "metadata": {},
   "source": [
    "# Data Cleaning\n",
    "# Remove rows with missing price values"
   ]
  },
  {
   "cell_type": "code",
   "execution_count": 4,
   "id": "8969785c",
   "metadata": {},
   "outputs": [],
   "source": [
    "data = data.dropna(subset=['price'])"
   ]
  },
  {
   "cell_type": "markdown",
   "id": "92c9871c",
   "metadata": {},
   "source": [
    "# Convert price to numeric, handling non-numeric values"
   ]
  },
  {
   "cell_type": "code",
   "execution_count": 5,
   "id": "b5f4ec4b",
   "metadata": {},
   "outputs": [],
   "source": [
    "data['price'] = pd.to_numeric(data['price'], errors='coerce')\n",
    "data = data.dropna(subset=['price'])\n"
   ]
  },
  {
   "cell_type": "markdown",
   "id": "bdfd3e57",
   "metadata": {},
   "source": [
    "# Feature Engineering\n",
    "# Encode categorical variables"
   ]
  },
  {
   "cell_type": "code",
   "execution_count": 6,
   "id": "946fcbce",
   "metadata": {},
   "outputs": [],
   "source": [
    "le_make = LabelEncoder()\n",
    "le_model = LabelEncoder()\n",
    "le_transmission = LabelEncoder()\n",
    "le_fuel = LabelEncoder()\n",
    "le_body = LabelEncoder()\n",
    "le_drivetrain = LabelEncoder()"
   ]
  },
  {
   "cell_type": "code",
   "execution_count": 7,
   "id": "0feb2bb1",
   "metadata": {},
   "outputs": [],
   "source": [
    "data['make_encoded'] = le_make.fit_transform(data['make'])\n",
    "data['model_encoded'] = le_model.fit_transform(data['model'])\n",
    "data['transmission_encoded'] = le_transmission.fit_transform(data['transmission'])\n",
    "data['fuel_encoded'] = le_fuel.fit_transform(data['fuel'])\n",
    "data['body_encoded'] = le_body.fit_transform(data['body'])\n",
    "data['drivetrain_encoded'] = le_drivetrain.fit_transform(data['drivetrain'])"
   ]
  },
  {
   "cell_type": "markdown",
   "id": "a7cd546a",
   "metadata": {},
   "source": [
    "# Select features for prediction"
   ]
  },
  {
   "cell_type": "code",
   "execution_count": 8,
   "id": "1b8bafa9",
   "metadata": {},
   "outputs": [],
   "source": [
    "features = ['year', 'make_encoded', 'model_encoded', 'cylinders', 'mileage', \n",
    "            'transmission_encoded', 'fuel_encoded', 'body_encoded', 'drivetrain_encoded']\n",
    "X = data[features]\n",
    "y = data['price']\n"
   ]
  },
  {
   "cell_type": "markdown",
   "id": "0b865e34",
   "metadata": {},
   "source": [
    "# Handle missing values in numerical columns"
   ]
  },
  {
   "cell_type": "code",
   "execution_count": 9,
   "id": "c479316f",
   "metadata": {},
   "outputs": [],
   "source": [
    "X = X.fillna(X.mean())"
   ]
  },
  {
   "cell_type": "markdown",
   "id": "10e0d1bb",
   "metadata": {},
   "source": [
    "# Scale the features"
   ]
  },
  {
   "cell_type": "code",
   "execution_count": 10,
   "id": "ca113710",
   "metadata": {},
   "outputs": [],
   "source": [
    "scaler = StandardScaler()\n",
    "X_scaled = scaler.fit_transform(X)"
   ]
  },
  {
   "cell_type": "markdown",
   "id": "57342c45",
   "metadata": {},
   "source": [
    "# Split the data"
   ]
  },
  {
   "cell_type": "code",
   "execution_count": 11,
   "id": "fa7b7c8d",
   "metadata": {},
   "outputs": [],
   "source": [
    "X_train, X_test, y_train, y_test = train_test_split(X_scaled, y, test_size=0.2, random_state=42)\n"
   ]
  },
  {
   "cell_type": "markdown",
   "id": "43c136d9",
   "metadata": {},
   "source": [
    "# Train the model"
   ]
  },
  {
   "cell_type": "code",
   "execution_count": 12,
   "id": "d58d415c",
   "metadata": {},
   "outputs": [
    {
     "data": {
      "text/html": [
       "<style>#sk-container-id-1 {color: black;background-color: white;}#sk-container-id-1 pre{padding: 0;}#sk-container-id-1 div.sk-toggleable {background-color: white;}#sk-container-id-1 label.sk-toggleable__label {cursor: pointer;display: block;width: 100%;margin-bottom: 0;padding: 0.3em;box-sizing: border-box;text-align: center;}#sk-container-id-1 label.sk-toggleable__label-arrow:before {content: \"▸\";float: left;margin-right: 0.25em;color: #696969;}#sk-container-id-1 label.sk-toggleable__label-arrow:hover:before {color: black;}#sk-container-id-1 div.sk-estimator:hover label.sk-toggleable__label-arrow:before {color: black;}#sk-container-id-1 div.sk-toggleable__content {max-height: 0;max-width: 0;overflow: hidden;text-align: left;background-color: #f0f8ff;}#sk-container-id-1 div.sk-toggleable__content pre {margin: 0.2em;color: black;border-radius: 0.25em;background-color: #f0f8ff;}#sk-container-id-1 input.sk-toggleable__control:checked~div.sk-toggleable__content {max-height: 200px;max-width: 100%;overflow: auto;}#sk-container-id-1 input.sk-toggleable__control:checked~label.sk-toggleable__label-arrow:before {content: \"▾\";}#sk-container-id-1 div.sk-estimator input.sk-toggleable__control:checked~label.sk-toggleable__label {background-color: #d4ebff;}#sk-container-id-1 div.sk-label input.sk-toggleable__control:checked~label.sk-toggleable__label {background-color: #d4ebff;}#sk-container-id-1 input.sk-hidden--visually {border: 0;clip: rect(1px 1px 1px 1px);clip: rect(1px, 1px, 1px, 1px);height: 1px;margin: -1px;overflow: hidden;padding: 0;position: absolute;width: 1px;}#sk-container-id-1 div.sk-estimator {font-family: monospace;background-color: #f0f8ff;border: 1px dotted black;border-radius: 0.25em;box-sizing: border-box;margin-bottom: 0.5em;}#sk-container-id-1 div.sk-estimator:hover {background-color: #d4ebff;}#sk-container-id-1 div.sk-parallel-item::after {content: \"\";width: 100%;border-bottom: 1px solid gray;flex-grow: 1;}#sk-container-id-1 div.sk-label:hover label.sk-toggleable__label {background-color: #d4ebff;}#sk-container-id-1 div.sk-serial::before {content: \"\";position: absolute;border-left: 1px solid gray;box-sizing: border-box;top: 0;bottom: 0;left: 50%;z-index: 0;}#sk-container-id-1 div.sk-serial {display: flex;flex-direction: column;align-items: center;background-color: white;padding-right: 0.2em;padding-left: 0.2em;position: relative;}#sk-container-id-1 div.sk-item {position: relative;z-index: 1;}#sk-container-id-1 div.sk-parallel {display: flex;align-items: stretch;justify-content: center;background-color: white;position: relative;}#sk-container-id-1 div.sk-item::before, #sk-container-id-1 div.sk-parallel-item::before {content: \"\";position: absolute;border-left: 1px solid gray;box-sizing: border-box;top: 0;bottom: 0;left: 50%;z-index: -1;}#sk-container-id-1 div.sk-parallel-item {display: flex;flex-direction: column;z-index: 1;position: relative;background-color: white;}#sk-container-id-1 div.sk-parallel-item:first-child::after {align-self: flex-end;width: 50%;}#sk-container-id-1 div.sk-parallel-item:last-child::after {align-self: flex-start;width: 50%;}#sk-container-id-1 div.sk-parallel-item:only-child::after {width: 0;}#sk-container-id-1 div.sk-dashed-wrapped {border: 1px dashed gray;margin: 0 0.4em 0.5em 0.4em;box-sizing: border-box;padding-bottom: 0.4em;background-color: white;}#sk-container-id-1 div.sk-label label {font-family: monospace;font-weight: bold;display: inline-block;line-height: 1.2em;}#sk-container-id-1 div.sk-label-container {text-align: center;}#sk-container-id-1 div.sk-container {/* jupyter's `normalize.less` sets `[hidden] { display: none; }` but bootstrap.min.css set `[hidden] { display: none !important; }` so we also need the `!important` here to be able to override the default hidden behavior on the sphinx rendered scikit-learn.org. See: https://github.com/scikit-learn/scikit-learn/issues/21755 */display: inline-block !important;position: relative;}#sk-container-id-1 div.sk-text-repr-fallback {display: none;}</style><div id=\"sk-container-id-1\" class=\"sk-top-container\"><div class=\"sk-text-repr-fallback\"><pre>RandomForestRegressor(random_state=42)</pre><b>In a Jupyter environment, please rerun this cell to show the HTML representation or trust the notebook. <br />On GitHub, the HTML representation is unable to render, please try loading this page with nbviewer.org.</b></div><div class=\"sk-container\" hidden><div class=\"sk-item\"><div class=\"sk-estimator sk-toggleable\"><input class=\"sk-toggleable__control sk-hidden--visually\" id=\"sk-estimator-id-1\" type=\"checkbox\" checked><label for=\"sk-estimator-id-1\" class=\"sk-toggleable__label sk-toggleable__label-arrow\">RandomForestRegressor</label><div class=\"sk-toggleable__content\"><pre>RandomForestRegressor(random_state=42)</pre></div></div></div></div></div>"
      ],
      "text/plain": [
       "RandomForestRegressor(random_state=42)"
      ]
     },
     "execution_count": 12,
     "metadata": {},
     "output_type": "execute_result"
    }
   ],
   "source": [
    "model = RandomForestRegressor(n_estimators=100, random_state=42)\n",
    "model.fit(X_train, y_train)\n"
   ]
  },
  {
   "cell_type": "markdown",
   "id": "36a4c819",
   "metadata": {},
   "source": [
    "\n",
    "# Predict and evaluate"
   ]
  },
  {
   "cell_type": "code",
   "execution_count": 13,
   "id": "5183f407",
   "metadata": {},
   "outputs": [
    {
     "name": "stdout",
     "output_type": "stream",
     "text": [
      "Mean Squared Error: 76149709.80485667\n",
      "R² Score: 0.7506479715732747\n"
     ]
    }
   ],
   "source": [
    "y_pred = model.predict(X_test)\n",
    "mse = mean_squared_error(y_test, y_pred)\n",
    "r2 = r2_score(y_test, y_pred)\n",
    "\n",
    "print(f'Mean Squared Error: {mse}')\n",
    "print(f'R² Score: {r2}')"
   ]
  },
  {
   "cell_type": "markdown",
   "id": "355a2871",
   "metadata": {},
   "source": [
    "# Feature Importance"
   ]
  },
  {
   "cell_type": "code",
   "execution_count": 14,
   "id": "224205cd",
   "metadata": {},
   "outputs": [],
   "source": [
    "feature_importance = pd.DataFrame({'feature': features, 'importance': model.feature_importances_})\n",
    "feature_importance = feature_importance.sort_values('importance', ascending=False)"
   ]
  },
  {
   "cell_type": "markdown",
   "id": "a53aac0a",
   "metadata": {},
   "source": [
    "# Plot feature importance"
   ]
  },
  {
   "cell_type": "code",
   "execution_count": 15,
   "id": "1652b49d",
   "metadata": {},
   "outputs": [
    {
     "data": {
      "image/png": "[encoded data removed]",
      "text/plain": [
       "<Figure size 1000x600 with 1 Axes>"
      ]
     },
     "metadata": {},
     "output_type": "display_data"
    }
   ],
   "source": [
    "plt.figure(figsize=(10, 6))\n",
    "plt.bar(feature_importance['feature'], feature_importance['importance'])\n",
    "plt.xlabel('Features')\n",
    "plt.ylabel('Importance')\n",
    "plt.title('Feature Importance in Price Prediction')\n",
    "plt.xticks(rotation=45)\n",
    "plt.tight_layout()\n",
    "plt.show()"
   ]
  },
  {
   "cell_type": "markdown",
   "id": "4fc67a15",
   "metadata": {},
   "source": [
    "# Example prediction for a new vehicle"
   ]
  },
  {
   "cell_type": "code",
   "execution_count": 16,
   "id": "420570f1",
   "metadata": {},
   "outputs": [
    {
     "name": "stdout",
     "output_type": "stream",
     "text": [
      "Predicted Price for new vehicle: $74,567.31\n"
     ]
    }
   ],
   "source": [
    "new_vehicle = pd.DataFrame({\n",
    "    'year': [2024],\n",
    "    'make_encoded': [le_make.transform(['Jeep'])[0]],\n",
    "    'model_encoded': [le_model.transform(['Wagoneer'])[0]],\n",
    "    'cylinders': [6],\n",
    "    'mileage': [10],\n",
    "    'transmission_encoded': [le_transmission.transform(['8-Speed Automatic'])[0]],\n",
    "    'fuel_encoded': [le_fuel.transform(['Gasoline'])[0]],\n",
    "    'body_encoded': [le_body.transform(['SUV'])[0]],\n",
    "    'drivetrain_encoded': [le_drivetrain.transform(['Four-wheel Drive'])[0]]\n",
    "})\n",
    "new_vehicle_scaled = scaler.transform(new_vehicle)\n",
    "predicted_price = model.predict(new_vehicle_scaled)\n",
    "print(f'Predicted Price for new vehicle: ${predicted_price[0]:,.2f}')"
   ]
  },
  {
   "cell_type": "markdown",
   "id": "1f603038",
   "metadata": {},
   "source": [
    "# Save the model and preprocessing objects"
   ]
  },
  {
   "cell_type": "code",
   "execution_count": 17,
   "id": "72d2063d",
   "metadata": {},
   "outputs": [
    {
     "name": "stdout",
     "output_type": "stream",
     "text": [
      "Model and preprocessing objects saved successfully.\n"
     ]
    }
   ],
   "source": [
    "joblib.dump(model, 'vehicle_price_model.pkl')\n",
    "joblib.dump(scaler, 'scaler.pkl')\n",
    "joblib.dump(le_make, 'le_make.pkl')\n",
    "joblib.dump(le_model, 'le_model.pkl')\n",
    "joblib.dump(le_transmission, 'le_transmission.pkl')\n",
    "joblib.dump(le_fuel, 'le_fuel.pkl')\n",
    "joblib.dump(le_body, 'le_body.pkl')\n",
    "joblib.dump(le_drivetrain, 'le_drivetrain.pkl')\n",
    "\n",
    "print(\"Model and preprocessing objects saved successfully.\")"
   ]
  },
  {
   "cell_type": "code",
   "execution_count": null,
   "id": "52655a28",
   "metadata": {},
   "outputs": [],
   "source": []
  }
 ],
 "metadata": {
  "kernelspec": {
   "display_name": "Python 3 (ipykernel)",
   "language": "python",
   "name": "python3"
  },
  "language_info": {
   "codemirror_mode": {
    "name": "ipython",
    "version": 3
   },
   "file_extension": ".py",
   "mimetype": "text/x-python",
   "name": "python",
   "nbconvert_exporter": "python",
   "pygments_lexer": "ipython3",
   "version": "3.11.4"
  }
 },
 "nbformat": 4,
 "nbformat_minor": 5
}
